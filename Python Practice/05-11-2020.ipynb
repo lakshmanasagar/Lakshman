{
 "cells": [
  {
   "cell_type": "markdown",
   "metadata": {},
   "source": [
    "input.text:\n",
    "    2 10\n",
    "    5 15\n",
    "    \n",
    "    output.text:\n",
    "        \n",
    "        2 table upto 10 rows\n",
    "        5 table upto 15 rows\n"
   ]
  },
  {
   "cell_type": "code",
   "execution_count": 1,
   "metadata": {},
   "outputs": [
    {
     "name": "stdout",
     "output_type": "stream",
     "text": [
      "3 5\n"
     ]
    }
   ],
   "source": [
    "with open(\"DataFiles/input1.text\",\"a\") as ft:\n",
    "    p = input()\n",
    "    ft.write(p+\"\\n\")\n"
   ]
  },
  {
   "cell_type": "code",
   "execution_count": 2,
   "metadata": {},
   "outputs": [
    {
     "name": "stdout",
     "output_type": "stream",
     "text": [
      "2 10\n",
      "<class 'str'>\n"
     ]
    }
   ],
   "source": [
    "n = input()\n",
    "t = n[0]\n",
    "print(type(t))\n"
   ]
  },
  {
   "cell_type": "code",
   "execution_count": 3,
   "metadata": {},
   "outputs": [
    {
     "name": "stdout",
     "output_type": "stream",
     "text": [
      "2 10\n",
      "<class 'int'>\n"
     ]
    }
   ],
   "source": [
    "n = input()\n",
    "t = int(n[0])\n",
    "print(type(t))\n"
   ]
  },
  {
   "cell_type": "code",
   "execution_count": 4,
   "metadata": {},
   "outputs": [
    {
     "name": "stdout",
     "output_type": "stream",
     "text": [
      "2 10\n",
      "<class 'int'>\n"
     ]
    }
   ],
   "source": [
    "n = input()\n",
    "t = int(n[0])\n",
    "print(type(t))\n"
   ]
  },
  {
   "cell_type": "code",
   "execution_count": 5,
   "metadata": {},
   "outputs": [
    {
     "name": "stdout",
     "output_type": "stream",
     "text": [
      "2 10\n",
      "2 10 <class 'str'>\n",
      "2 <class 'int'>\n"
     ]
    },
    {
     "ename": "ValueError",
     "evalue": "invalid literal for int() with base 10: ' '",
     "output_type": "error",
     "traceback": [
      "\u001b[1;31m---------------------------------------------------------------------------\u001b[0m",
      "\u001b[1;31mValueError\u001b[0m                                Traceback (most recent call last)",
      "\u001b[1;32m<ipython-input-5-9f2f9a9cd901>\u001b[0m in \u001b[0;36m<module>\u001b[1;34m\u001b[0m\n\u001b[0;32m      3\u001b[0m \u001b[0mt\u001b[0m \u001b[1;33m=\u001b[0m \u001b[0mint\u001b[0m\u001b[1;33m(\u001b[0m\u001b[0mn\u001b[0m\u001b[1;33m[\u001b[0m\u001b[1;36m0\u001b[0m\u001b[1;33m]\u001b[0m\u001b[1;33m)\u001b[0m\u001b[1;33m\u001b[0m\u001b[1;33m\u001b[0m\u001b[0m\n\u001b[0;32m      4\u001b[0m \u001b[0mprint\u001b[0m\u001b[1;33m(\u001b[0m\u001b[0mt\u001b[0m\u001b[1;33m,\u001b[0m\u001b[0mtype\u001b[0m\u001b[1;33m(\u001b[0m\u001b[0mt\u001b[0m\u001b[1;33m)\u001b[0m\u001b[1;33m)\u001b[0m\u001b[1;33m\u001b[0m\u001b[1;33m\u001b[0m\u001b[0m\n\u001b[1;32m----> 5\u001b[1;33m \u001b[0mr\u001b[0m \u001b[1;33m=\u001b[0m \u001b[0mint\u001b[0m\u001b[1;33m(\u001b[0m\u001b[0mn\u001b[0m\u001b[1;33m[\u001b[0m\u001b[1;36m1\u001b[0m\u001b[1;33m]\u001b[0m\u001b[1;33m)\u001b[0m\u001b[1;33m\u001b[0m\u001b[1;33m\u001b[0m\u001b[0m\n\u001b[0m\u001b[0;32m      6\u001b[0m \u001b[0mprint\u001b[0m\u001b[1;33m(\u001b[0m\u001b[0mtype\u001b[0m\u001b[1;33m(\u001b[0m\u001b[0mt\u001b[0m\u001b[1;33m,\u001b[0m\u001b[0mr\u001b[0m\u001b[1;33m)\u001b[0m\u001b[1;33m)\u001b[0m\u001b[1;33m\u001b[0m\u001b[1;33m\u001b[0m\u001b[0m\n\u001b[0;32m      7\u001b[0m \u001b[0mprint\u001b[0m\u001b[1;33m(\u001b[0m\u001b[0mt\u001b[0m\u001b[1;33m,\u001b[0m\u001b[0mr\u001b[0m\u001b[1;33m)\u001b[0m\u001b[1;33m\u001b[0m\u001b[1;33m\u001b[0m\u001b[0m\n",
      "\u001b[1;31mValueError\u001b[0m: invalid literal for int() with base 10: ' '"
     ]
    }
   ],
   "source": [
    "n = input()\n",
    "print(n,type(n))\n",
    "t = int(n[0])\n",
    "print(t,type(t))\n",
    "r = int(n[1])\n",
    "print(type(t,r))\n",
    "print(t,r)\n"
   ]
  },
  {
   "cell_type": "code",
   "execution_count": 6,
   "metadata": {},
   "outputs": [
    {
     "name": "stdout",
     "output_type": "stream",
     "text": [
      "2 10\n",
      "2\n"
     ]
    }
   ],
   "source": [
    "n = input().split()\n",
    "print(n[0])\n"
   ]
  },
  {
   "cell_type": "code",
   "execution_count": 7,
   "metadata": {},
   "outputs": [
    {
     "name": "stdout",
     "output_type": "stream",
     "text": [
      "2 10\n",
      "10\n"
     ]
    }
   ],
   "source": [
    "n = input().split()\n",
    "print(n[1])\n"
   ]
  },
  {
   "cell_type": "code",
   "execution_count": 8,
   "metadata": {},
   "outputs": [
    {
     "name": "stdout",
     "output_type": "stream",
     "text": [
      "2 10\n",
      "<class 'int'> <class 'int'>\n"
     ]
    }
   ],
   "source": [
    "n = input().split()\n",
    "t = int(n[0])\n",
    "r = int(n[1])\n",
    "print(type(t),type(r))\n"
   ]
  },
  {
   "cell_type": "code",
   "execution_count": 9,
   "metadata": {},
   "outputs": [
    {
     "name": "stdout",
     "output_type": "stream",
     "text": [
      "5 15\n",
      "5 x 01 = 05\n",
      "5 x 02 = 10\n",
      "5 x 03 = 15\n",
      "5 x 04 = 20\n",
      "5 x 05 = 25\n",
      "5 x 06 = 30\n",
      "5 x 07 = 35\n",
      "5 x 08 = 40\n",
      "5 x 09 = 45\n",
      "5 x 10 = 50\n",
      "5 x 11 = 55\n",
      "5 x 12 = 60\n",
      "5 x 13 = 65\n",
      "5 x 14 = 70\n",
      "5 x 15 = 75\n"
     ]
    }
   ],
   "source": [
    "n = input().split()\n",
    "t = int(n[0])\n",
    "r = int(n[1])\n",
    "for i in range(1,r+1):\n",
    "    print(\"{} x {:02} = {:02}\".format(t,i,t*i))\n"
   ]
  },
  {
   "cell_type": "code",
   "execution_count": 10,
   "metadata": {},
   "outputs": [
    {
     "name": "stdout",
     "output_type": "stream",
     "text": [
      "['3 5\\n']\n"
     ]
    }
   ],
   "source": [
    "#reading using file structure\n",
    "with open(\"DataFiles/input1.text\",\"r\") as fr:\n",
    "    print(fr.readlines())\n"
   ]
  },
  {
   "cell_type": "code",
   "execution_count": 11,
   "metadata": {},
   "outputs": [
    {
     "name": "stdout",
     "output_type": "stream",
     "text": [
      "['3 5\\n']\n"
     ]
    }
   ],
   "source": [
    "with open(\"DataFiles/input1.text\",\"r\") as fr:\n",
    "    r = fr.readlines()\n",
    "    print(r)\n"
   ]
  },
  {
   "cell_type": "code",
   "execution_count": 12,
   "metadata": {},
   "outputs": [
    {
     "name": "stdout",
     "output_type": "stream",
     "text": [
      "3 5\n",
      "\n"
     ]
    }
   ],
   "source": [
    "with open(\"DataFiles/input1.text\",\"r\") as fr:\n",
    "    r = fr.readlines()\n",
    "    for t in r:\n",
    "        print(t)\n"
   ]
  },
  {
   "cell_type": "code",
   "execution_count": 13,
   "metadata": {},
   "outputs": [
    {
     "name": "stdout",
     "output_type": "stream",
     "text": [
      "['3 5', '']\n"
     ]
    }
   ],
   "source": [
    "with open(\"DataFiles/input1.text\",\"r\") as fr:\n",
    "    r = fr.readlines()\n",
    "    for t in r:\n",
    "        y = t.split(\"\\n\")\n",
    "        print(y)\n"
   ]
  },
  {
   "cell_type": "code",
   "execution_count": 14,
   "metadata": {},
   "outputs": [
    {
     "name": "stdout",
     "output_type": "stream",
     "text": [
      "3 5\n"
     ]
    }
   ],
   "source": [
    "with open(\"DataFiles/input1.text\",\"r\") as fr:\n",
    "    r = fr.readlines()\n",
    "    for t in r:\n",
    "        y = t.split(\"\\n\")[0]\n",
    "        print(y)\n"
   ]
  },
  {
   "cell_type": "code",
   "execution_count": 15,
   "metadata": {},
   "outputs": [
    {
     "name": "stdout",
     "output_type": "stream",
     "text": [
      "['3', '5']\n"
     ]
    }
   ],
   "source": [
    "with open(\"DataFiles/input1.text\",\"r\") as fr:\n",
    "    r = fr.readlines() #each line placed in a index position\n",
    "    for t in r:\n",
    "        y = t.split(\"\\n\")[0]\n",
    "        p = y.split()\n",
    "        print(p)\n"
   ]
  },
  {
   "cell_type": "code",
   "execution_count": 16,
   "metadata": {},
   "outputs": [
    {
     "name": "stdout",
     "output_type": "stream",
     "text": [
      "<class 'int'> <class 'int'>\n"
     ]
    }
   ],
   "source": [
    "with open(\"DataFiles/input1.text\",\"r\") as fr:\n",
    "    r = fr.readlines()\n",
    "    for t in r:\n",
    "        y = t.split(\"\\n\")[0]\n",
    "        p = y.split()\n",
    "        ta = int(p[0])\n",
    "        ra = int(p[1])\n",
    "        print(type(ta),type(ra))\n"
   ]
  },
  {
   "cell_type": "code",
   "execution_count": 17,
   "metadata": {},
   "outputs": [
    {
     "name": "stdout",
     "output_type": "stream",
     "text": [
      "3 x 1 = 3\n",
      "3 x 2 = 6\n",
      "3 x 3 = 9\n",
      "3 x 4 = 12\n",
      "3 x 5 = 15\n",
      "\n"
     ]
    }
   ],
   "source": [
    "with open(\"DataFiles/input1.text\",\"r\") as fr:\n",
    "    r = fr.readlines()\n",
    "    for t in r:\n",
    "        y = t.split(\"\\n\")[0]\n",
    "        p = y.split()\n",
    "        ta = int(p[0])\n",
    "        ra = int(p[1])\n",
    "        for j in range(1,ra+1):\n",
    "            print(\"{} x {} = {}\".format(ta,j,ta*j))\n",
    "        print(end=\"\\n\")\n"
   ]
  },
  {
   "cell_type": "code",
   "execution_count": 18,
   "metadata": {},
   "outputs": [],
   "source": [
    "with open(\"DataFiles/input1.text\",\"r\") as fr:\n",
    "    r = fr.readlines()\n",
    "    with open(\"DataFiles/output1.text\",\"w\") as fp:\n",
    "        for t in r:\n",
    "            y = t.split(\"\\n\")[0]\n",
    "            p = y.split()\n",
    "            ta = int(p[0])\n",
    "            ra = int(p[1])\n",
    "            m = \"\"\n",
    "            with open(\"DataFiles/output1.text\",\"a\") as fp:\n",
    "                for j in range(1,ra+1):\n",
    "                    m =  m+\"{} x {:02} = {:02}\".format(ta,j,ta*j)+\"\\n\"\n",
    "                fp.write(\"\\n\")\n",
    "                fp.write(m)\n",
    "                \n"
   ]
  },
  {
   "cell_type": "code",
   "execution_count": 19,
   "metadata": {},
   "outputs": [
    {
     "name": "stdout",
     "output_type": "stream",
     "text": [
      "3 x 01 = 03\n",
      "\n",
      "3 x 01 = 03\n",
      "3 x 02 = 06\n",
      "\n",
      "3 x 01 = 03\n",
      "3 x 02 = 06\n",
      "3 x 03 = 09\n",
      "\n",
      "3 x 01 = 03\n",
      "3 x 02 = 06\n",
      "3 x 03 = 09\n",
      "3 x 04 = 12\n",
      "\n",
      "3 x 01 = 03\n",
      "3 x 02 = 06\n",
      "3 x 03 = 09\n",
      "3 x 04 = 12\n",
      "3 x 05 = 15\n",
      "\n"
     ]
    }
   ],
   "source": [
    "with open(\"DataFiles/input1.text\",\"r\") as fr:\n",
    "    r = fr.readlines()\n",
    "    with open(\"DataFiles/output1.text\",\"w\") as fp:\n",
    "        for t in r:\n",
    "            y = t.split(\"\\n\")[0]\n",
    "            p = y.split()\n",
    "            ta = int(p[0])\n",
    "            ra = int(p[1])\n",
    "        #with open(\"DataFiles/output1.text\",\"a\") as fp:\n",
    "            m = \"\"\n",
    "            for j in range(1,ra+1):\n",
    "                m =  m+\"{} x {:02} = {:02}\".format(ta,j,ta*j)+\"\\n\"\n",
    "                print(m)\n",
    "            fp.write(m+\"\\n\")\n",
    "                \n"
   ]
  },
  {
   "cell_type": "code",
   "execution_count": null,
   "metadata": {},
   "outputs": [],
   "source": [
    "#task\n",
    "studentsmarks.text:\n",
    "   | s.no   |  name  | maths |  physics |  chemistry  | hindi |  Telugu\n",
    "     01       Raju      45       56          67          56       78\n",
    "     02       suresh    50       67\n",
    "studentsgrade.text\n",
    "    s.no      name     total      grade\n",
    "    01        suresh    450          A\n"
   ]
  },
  {
   "cell_type": "code",
   "execution_count": null,
   "metadata": {},
   "outputs": [],
   "source": [
    "with open(\"DataFiles/studentsmarks.text\",\"a\") as ft:\n",
    "    p = input()\n",
    "    ft.write(p+\"\\n\")\n"
   ]
  }
 ],
 "metadata": {
  "kernelspec": {
   "display_name": "Python 3",
   "language": "python",
   "name": "python3"
  },
  "language_info": {
   "codemirror_mode": {
    "name": "ipython",
    "version": 3
   },
   "file_extension": ".py",
   "mimetype": "text/x-python",
   "name": "python",
   "nbconvert_exporter": "python",
   "pygments_lexer": "ipython3",
   "version": "3.7.4"
  }
 },
 "nbformat": 4,
 "nbformat_minor": 4
}
