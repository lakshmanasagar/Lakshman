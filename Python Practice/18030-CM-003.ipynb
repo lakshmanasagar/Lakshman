{
 "cells": [
  {
   "cell_type": "code",
   "execution_count": 1,
   "metadata": {},
   "outputs": [
    {
     "name": "stdout",
     "output_type": "stream",
     "text": [
      "2\n",
      "2\n"
     ]
    }
   ],
   "source": [
    "## 1.)\n",
    "def fact(num):\n",
    "    if num == 0:\n",
    "        return 1\n",
    "    else:\n",
    "        return num * fact(num-1)\n",
    "num=int(input(\"\"))\n",
    "print(fact(num))"
   ]
  },
  {
   "cell_type": "code",
   "execution_count": 2,
   "metadata": {},
   "outputs": [
    {
     "name": "stdout",
     "output_type": "stream",
     "text": [
      "aba\n",
      "4\n"
     ]
    }
   ],
   "source": [
    "## 2.)\n",
    "\n",
    "m={'a':1,\n",
    "'b':2,\n",
    "'c':3,\n",
    "'d':4,\n",
    "'e':5,\n",
    "'f':6,\n",
    "'g':7,\n",
    "'h':8,\n",
    "'i':9,\n",
    "'j':10,\n",
    "'k':11,\n",
    "'l':12,\n",
    "'m':13,\n",
    "'n':14,\n",
    "'o':15,\n",
    "'p':16,\n",
    "'q':17,\n",
    "'r':18,\n",
    "'s':19,\n",
    "'t':20,\n",
    "'u':21,\n",
    "'v':22,\n",
    "'w':23,\n",
    "'x':24,\n",
    "'y':25,\n",
    "'z':26\n",
    "}\n",
    "a=input()\n",
    "g=0\n",
    "for i in a:\n",
    "    if i in m:\n",
    "        g+=m[i]\n",
    "print(g)"
   ]
  },
  {
   "cell_type": "code",
   "execution_count": 3,
   "metadata": {},
   "outputs": [
    {
     "name": "stdout",
     "output_type": "stream",
     "text": [
      "1\n",
      "10\n",
      "1\n",
      "10\n"
     ]
    }
   ],
   "source": [
    "## 3.)\n",
    "l=int(input())\n",
    "r=int(input())\n",
    "k=int(input())\n",
    "c=0\n",
    "for i in range(l,r+1):\n",
    "    if i%k==0:\n",
    "        c=c+1\n",
    "print(c)"
   ]
  },
  {
   "cell_type": "code",
   "execution_count": 4,
   "metadata": {},
   "outputs": [
    {
     "name": "stdout",
     "output_type": "stream",
     "text": [
      "zzzoooooo\n",
      "Yes\n"
     ]
    }
   ],
   "source": [
    "## 4.)\n",
    "i=input()\n",
    "x=i.split(\"z\")\n",
    "y=i.split(\"o\")\n",
    "b=len(x[-1])\n",
    "a=len(y[0])\n",
    "if(2*a==b):\n",
    "    print(\"Yes\")\n",
    "else:\n",
    "    print(\"No\")"
   ]
  },
  {
   "cell_type": "code",
   "execution_count": null,
   "metadata": {},
   "outputs": [],
   "source": []
  }
 ],
 "metadata": {
  "kernelspec": {
   "display_name": "Python 3",
   "language": "python",
   "name": "python3"
  },
  "language_info": {
   "codemirror_mode": {
    "name": "ipython",
    "version": 3
   },
   "file_extension": ".py",
   "mimetype": "text/x-python",
   "name": "python",
   "nbconvert_exporter": "python",
   "pygments_lexer": "ipython3",
   "version": "3.7.4"
  }
 },
 "nbformat": 4,
 "nbformat_minor": 4
}
